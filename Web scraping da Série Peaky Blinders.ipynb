{
 "cells": [
  {
   "cell_type": "markdown",
   "id": "96797747",
   "metadata": {},
   "source": [
    "## Análise dos Dados da Série \"Peaky Blinders\"\n",
    "#### Os dados foram retirados do site IMDB e podem ser acessados no link: https://www.imdb.com/title/tt2442560/"
   ]
  },
  {
   "cell_type": "code",
   "execution_count": 3,
   "id": "448a1e0e",
   "metadata": {},
   "outputs": [],
   "source": [
    "from bs4 import BeautifulSoup as bs\n",
    "import requests as rq"
   ]
  },
  {
   "cell_type": "code",
   "execution_count": 4,
   "id": "450d03c4",
   "metadata": {
    "scrolled": true
   },
   "outputs": [
    {
     "name": "stdout",
     "output_type": "stream",
     "text": [
      "<Response [200]>\n"
     ]
    }
   ],
   "source": [
    "url = 'https://www.imdb.com/title/tt2442560/'\n",
    "r = rq.get(url)\n",
    "print(r)"
   ]
  },
  {
   "cell_type": "code",
   "execution_count": 5,
   "id": "4585f06c",
   "metadata": {},
   "outputs": [],
   "source": [
    "soup = bs(r.content, 'html.parser')"
   ]
  },
  {
   "cell_type": "code",
   "execution_count": 6,
   "id": "21a911b1",
   "metadata": {},
   "outputs": [
    {
     "data": {
      "text/plain": [
       "bs4.BeautifulSoup"
      ]
     },
     "execution_count": 6,
     "metadata": {},
     "output_type": "execute_result"
    }
   ],
   "source": [
    "type(soup)"
   ]
  },
  {
   "cell_type": "code",
   "execution_count": 7,
   "id": "b10e8768",
   "metadata": {},
   "outputs": [
    {
     "name": "stdout",
     "output_type": "stream",
     "text": [
      "Peaky Blinders: Sangue, Apostas e Navalhas\n"
     ]
    }
   ],
   "source": [
    "#Nome da Série\n",
    "nome_da_serie = soup.find('h1').text\n",
    "print(nome_da_serie)"
   ]
  },
  {
   "cell_type": "code",
   "execution_count": 8,
   "id": "c1fb263f",
   "metadata": {},
   "outputs": [
    {
     "data": {
      "text/plain": [
       "'2013– '"
      ]
     },
     "execution_count": 8,
     "metadata": {},
     "output_type": "execute_result"
    }
   ],
   "source": [
    "#Ano de Lançamento da Série\n",
    "ano_de_lancamento = soup.find('span', class_ = 'TitleBlockMetaData__ListItemText-sc-12ein40-2 jedhex').text\n",
    "ano_de_lancamento"
   ]
  },
  {
   "cell_type": "code",
   "execution_count": 25,
   "id": "2549ec2f",
   "metadata": {},
   "outputs": [
    {
     "name": "stdout",
     "output_type": "stream",
     "text": [
      "8.8/10\n"
     ]
    }
   ],
   "source": [
    "#Avaliação do IMDb\n",
    "avaliacao = soup.find('span', class_ = 'AggregateRatingButton__RatingScore-sc-1il8omz-1 fhMjqK').text\n",
    "avaliacao2 = print(avaliacao + '/10')"
   ]
  },
  {
   "cell_type": "code",
   "execution_count": 10,
   "id": "2e70f2f9",
   "metadata": {},
   "outputs": [
    {
     "name": "stdout",
     "output_type": "stream",
     "text": [
      "23\n"
     ]
    }
   ],
   "source": [
    "#Popularidade no Ranking da IMDb Atualmente\n",
    "pop = soup.find('div', class_ = 'TrendingButton__TrendingScore-rbd4o3-1 CRmBe').text\n",
    "print(pop)"
   ]
  },
  {
   "cell_type": "code",
   "execution_count": 11,
   "id": "6ef897e3",
   "metadata": {},
   "outputs": [
    {
     "data": {
      "text/plain": [
       "'3'"
      ]
     },
     "execution_count": 11,
     "metadata": {},
     "output_type": "execute_result"
    }
   ],
   "source": [
    "#Quantos pontos a série caiu no Ranking da IMDb?\n",
    "lost_points = soup.find('div', class_ = 'TrendingButton__TrendingDelta-rbd4o3-2 cZhqd').text\n",
    "lost_points"
   ]
  },
  {
   "cell_type": "code",
   "execution_count": 12,
   "id": "511a859d",
   "metadata": {},
   "outputs": [
    {
     "data": {
      "text/plain": [
       "20"
      ]
     },
     "execution_count": 12,
     "metadata": {},
     "output_type": "execute_result"
    }
   ],
   "source": [
    "#Em que posição se encontrava a série antes da perda de pontos?\n",
    "last_position = int(pop) - int(lost_points)\n",
    "last_position"
   ]
  },
  {
   "cell_type": "code",
   "execution_count": 13,
   "id": "33d68a3e",
   "metadata": {
    "scrolled": true
   },
   "outputs": [
    {
     "name": "stdout",
     "output_type": "stream",
     "text": [
      "A gangster family epic set in 1900s England, centering on a gang who sew razor blades in the peaks of their caps, and their fierce boss Tommy Shelby.\n"
     ]
    }
   ],
   "source": [
    "#Sinopse\n",
    "sinopse = soup.find('div', class_ = 'GenresAndPlot__TextContainerBreakpointXS-cum89p-0 GxFuV').text\n",
    "print(sinopse)"
   ]
  },
  {
   "cell_type": "markdown",
   "id": "f0840e6c",
   "metadata": {},
   "source": [
    "### Análise dos dados encontrados"
   ]
  },
  {
   "cell_type": "markdown",
   "id": "1f653a4b",
   "metadata": {},
   "source": [
    "##### Quando a série foi lançada?"
   ]
  },
  {
   "cell_type": "code",
   "execution_count": 87,
   "id": "17906a37",
   "metadata": {},
   "outputs": [
    {
     "name": "stdout",
     "output_type": "stream",
     "text": [
      "A série foi lançada no ano de 2013 \n"
     ]
    }
   ],
   "source": [
    "#Lembrete da função Replace: variável + .replace('primeiro nome,', 'novo nome,')\n",
    "\n",
    "ano = ano_de_lancamento.replace('2013–', '2013')\n",
    "print('A série foi lançada no ano de', ano)"
   ]
  },
  {
   "cell_type": "markdown",
   "id": "5aa33977",
   "metadata": {},
   "source": [
    "##### Qual era o nível inicial ocupado pela série no ranking da IMDb ?"
   ]
  },
  {
   "cell_type": "code",
   "execution_count": 118,
   "id": "4bb6c4d4",
   "metadata": {},
   "outputs": [
    {
     "name": "stdout",
     "output_type": "stream",
     "text": [
      "O nível/posição anteriormente ocupado(a) pela série era o 20\n"
     ]
    }
   ],
   "source": [
    "print('O nível/posição anteriormente ocupado(a) pela série era o', last_position)"
   ]
  },
  {
   "cell_type": "markdown",
   "id": "f3e9b6f3",
   "metadata": {},
   "source": [
    "##### Qual a posição atual da série no ranking do site IMDb?"
   ]
  },
  {
   "cell_type": "code",
   "execution_count": 117,
   "id": "fa6f5813",
   "metadata": {},
   "outputs": [
    {
     "name": "stdout",
     "output_type": "stream",
     "text": [
      "O nível/posição atual ocupado(a) pela série é o 23\n"
     ]
    }
   ],
   "source": [
    "print('O nível/posição atual ocupado(a) pela série é o', pop)"
   ]
  },
  {
   "cell_type": "markdown",
   "id": "09e72ae4",
   "metadata": {},
   "source": [
    "##### Do que se trata a série?"
   ]
  },
  {
   "cell_type": "markdown",
   "id": "6a93c592",
   "metadata": {},
   "source": [
    "Trata-se de um épico familiar de gângsteres ambientado na Inglaterra de 1900, que se concentra em uma \n",
    "gangue e seu chefe , Thomas Shelby. A gangue da família Shelby era famosa por sua influência na Inglaterra e também pelo costume de costurar lâminas de barbear nas pontas de seus bonés."
   ]
  },
  {
   "cell_type": "code",
   "execution_count": 32,
   "id": "6da2c5d1",
   "metadata": {},
   "outputs": [
    {
     "name": "stdout",
     "output_type": "stream",
     "text": [
      "A série recebeu uma avaliação bem positiva: 8.8 pontos em 10\n"
     ]
    }
   ],
   "source": [
    "#### Qual a avaliação da série no site?\n",
    "print('A série recebeu uma avaliação bem positiva:', avaliacao, 'pontos em 10')"
   ]
  }
 ],
 "metadata": {
  "kernelspec": {
   "display_name": "Python 3",
   "language": "python",
   "name": "python3"
  },
  "language_info": {
   "codemirror_mode": {
    "name": "ipython",
    "version": 3
   },
   "file_extension": ".py",
   "mimetype": "text/x-python",
   "name": "python",
   "nbconvert_exporter": "python",
   "pygments_lexer": "ipython3",
   "version": "3.8.5"
  }
 },
 "nbformat": 4,
 "nbformat_minor": 5
}
