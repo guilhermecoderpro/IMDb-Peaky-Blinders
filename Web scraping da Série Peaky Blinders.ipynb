{
 "cells": [
  {
   "cell_type": "markdown",
   "id": "d5c11630",
   "metadata": {},
   "source": [
    "## Análise dos Dados da Série \"Peaky Blinders\"\n",
    "#### Os dados foram retirados do site IMDB e podem ser acessados no link: https://www.imdb.com/title/tt2442560/"
   ]
  },
  {
   "cell_type": "code",
   "execution_count": 13,
   "id": "715665b4",
   "metadata": {},
   "outputs": [],
   "source": [
    "from bs4 import BeautifulSoup as bs\n",
    "import requests as rq"
   ]
  },
  {
   "cell_type": "code",
   "execution_count": 14,
   "id": "60dde0c3",
   "metadata": {
    "scrolled": true
   },
   "outputs": [
    {
     "name": "stdout",
     "output_type": "stream",
     "text": [
      "<Response [200]>\n"
     ]
    }
   ],
   "source": [
    "url = 'https://www.imdb.com/title/tt2442560/'\n",
    "r = rq.get(url)\n",
    "print(r)"
   ]
  },
  {
   "cell_type": "code",
   "execution_count": 15,
   "id": "35add901",
   "metadata": {},
   "outputs": [],
   "source": [
    "soup = bs(r.content, 'html.parser')"
   ]
  },
  {
   "cell_type": "code",
   "execution_count": 16,
   "id": "17ac015e",
   "metadata": {},
   "outputs": [
    {
     "data": {
      "text/plain": [
       "bs4.BeautifulSoup"
      ]
     },
     "execution_count": 16,
     "metadata": {},
     "output_type": "execute_result"
    }
   ],
   "source": [
    "type(soup)"
   ]
  },
  {
   "cell_type": "code",
   "execution_count": 19,
   "id": "c220bcb2",
   "metadata": {},
   "outputs": [
    {
     "name": "stdout",
     "output_type": "stream",
     "text": [
      "Peaky Blinders: Sangue, Apostas e Navalhas\n"
     ]
    }
   ],
   "source": [
    "#Nome da Série\n",
    "nome_da_serie = soup.find('h1').text\n",
    "print(nome_da_serie)"
   ]
  },
  {
   "cell_type": "code",
   "execution_count": 20,
   "id": "e7d70dd4",
   "metadata": {},
   "outputs": [
    {
     "data": {
      "text/plain": [
       "'2013– '"
      ]
     },
     "execution_count": 20,
     "metadata": {},
     "output_type": "execute_result"
    }
   ],
   "source": [
    "#Ano de Lançamento da Série\n",
    "ano_de_lancamento = soup.find('span', class_ = 'TitleBlockMetaData__ListItemText-sc-12ein40-2 jedhex').text\n",
    "ano_de_lancamento"
   ]
  },
  {
   "cell_type": "code",
   "execution_count": 21,
   "id": "7ce113db",
   "metadata": {},
   "outputs": [
    {
     "name": "stdout",
     "output_type": "stream",
     "text": [
      "8.8/10\n"
     ]
    }
   ],
   "source": [
    "#Avaliação do IMDb\n",
    "avaliacao = soup.find('span', class_ = 'AggregateRatingButton__RatingScore-sc-1il8omz-1 fhMjqK').text\n",
    "avaliacao2 = print(avaliacao + '/10')\n",
    "avaliacao2"
   ]
  },
  {
   "cell_type": "code",
   "execution_count": 95,
   "id": "0f963a5a",
   "metadata": {},
   "outputs": [
    {
     "name": "stdout",
     "output_type": "stream",
     "text": [
      "23\n"
     ]
    }
   ],
   "source": [
    "#Popularidade no Ranking da IMDb Atualmente\n",
    "pop = soup.find('div', class_ = 'TrendingButton__TrendingScore-rbd4o3-1 CRmBe').text\n",
    "print(pop)"
   ]
  },
  {
   "cell_type": "code",
   "execution_count": 23,
   "id": "8517ad2c",
   "metadata": {},
   "outputs": [
    {
     "data": {
      "text/plain": [
       "'3'"
      ]
     },
     "execution_count": 23,
     "metadata": {},
     "output_type": "execute_result"
    }
   ],
   "source": [
    "#Quantos pontos a série caiu no Ranking da IMDb?\n",
    "lost_points = soup.find('div', class_ = 'TrendingButton__TrendingDelta-rbd4o3-2 cZhqd').text\n",
    "lost_points"
   ]
  },
  {
   "cell_type": "code",
   "execution_count": 99,
   "id": "90d9eb72",
   "metadata": {},
   "outputs": [
    {
     "data": {
      "text/plain": [
       "20"
      ]
     },
     "execution_count": 99,
     "metadata": {},
     "output_type": "execute_result"
    }
   ],
   "source": [
    "#Em que posição se encontrava a série antes da perda de pontos?\n",
    "last_position = int(pop) - int(lost_points)\n",
    "last_position"
   ]
  },
  {
   "cell_type": "code",
   "execution_count": 25,
   "id": "582351f9",
   "metadata": {
    "scrolled": true
   },
   "outputs": [
    {
     "name": "stdout",
     "output_type": "stream",
     "text": [
      "A gangster family epic set in 1900s England, centering on a gang who sew razor blades in the peaks of their caps, and their fierce boss Tommy Shelby.\n"
     ]
    }
   ],
   "source": [
    "#Sinopse\n",
    "sinopse = soup.find('div', class_ = 'GenresAndPlot__TextContainerBreakpointXS-cum89p-0 GxFuV').text\n",
    "print(sinopse)"
   ]
  },
  {
   "cell_type": "markdown",
   "id": "1d85436b",
   "metadata": {},
   "source": [
    "### Análise dos dados encontrados"
   ]
  },
  {
   "cell_type": "markdown",
   "id": "2ab503f8",
   "metadata": {},
   "source": [
    "##### Quando a série foi lançada?"
   ]
  },
  {
   "cell_type": "code",
   "execution_count": 87,
   "id": "0d9dcf1e",
   "metadata": {},
   "outputs": [
    {
     "name": "stdout",
     "output_type": "stream",
     "text": [
      "A série foi lançada no ano de 2013 \n"
     ]
    }
   ],
   "source": [
    "#Lembrete da função Replace: variável + .replace('primeiro nome,', 'novo nome,')\n",
    "\n",
    "ano = ano_de_lancamento.replace('2013–', '2013')\n",
    "print('A série foi lançada no ano de', ano)"
   ]
  },
  {
   "cell_type": "markdown",
   "id": "a52109ce",
   "metadata": {},
   "source": [
    "##### Qual era o nível inicial ocupado pela série no ranking da IMDb ?"
   ]
  },
  {
   "cell_type": "code",
   "execution_count": 118,
   "id": "bab92acb",
   "metadata": {},
   "outputs": [
    {
     "name": "stdout",
     "output_type": "stream",
     "text": [
      "O nível/posição anteriormente ocupado(a) pela série era o 20\n"
     ]
    }
   ],
   "source": [
    "print('O nível/posição anteriormente ocupado(a) pela série era o', last_position)"
   ]
  },
  {
   "cell_type": "markdown",
   "id": "2e440703",
   "metadata": {},
   "source": [
    "##### Qual a posição atual da série no ranking do site IMDb?"
   ]
  },
  {
   "cell_type": "code",
   "execution_count": 117,
   "id": "3e221410",
   "metadata": {},
   "outputs": [
    {
     "name": "stdout",
     "output_type": "stream",
     "text": [
      "O nível/posição atual ocupado(a) pela série é o 23\n"
     ]
    }
   ],
   "source": [
    "print('O nível/posição atual ocupado(a) pela série é o', pop)"
   ]
  },
  {
   "cell_type": "markdown",
   "id": "9619a937",
   "metadata": {},
   "source": [
    "##### Do que se trata a série?"
   ]
  },
  {
   "cell_type": "code",
   "execution_count": 134,
   "id": "f8872935",
   "metadata": {},
   "outputs": [
    {
     "name": "stdout",
     "output_type": "stream",
     "text": [
      "----------------------------------------------------------------------------------------------------\n",
      "Um épico familiar de gângsteres ambientado na Inglaterra de 1900, que se concentra em uma gangue (que costurava lâminas de barbear nas pontas de seus bonés) e em seu chefe feroz, Tommy Shelby.\n",
      "----------------------------------------------------------------------------------------------------\n"
     ]
    }
   ],
   "source": [
    "traducao = sinopse.replace('A gangster family epic set in 1900s England, centering on a gang who sew razor blades in the peaks of their caps, and their fierce boss Tommy Shelby.','Um épico familiar de gângsteres ambientado na Inglaterra de 1900, que se concentra em uma gangue (que costurava lâminas de barbear nas pontas de seus bonés) e em seu chefe feroz, Tommy Shelby.')\n",
    "print(100*'-')\n",
    "print(traducao)\n",
    "print(100*'-')"
   ]
  }
 ],
 "metadata": {
  "kernelspec": {
   "display_name": "Python 3",
   "language": "python",
   "name": "python3"
  },
  "language_info": {
   "codemirror_mode": {
    "name": "ipython",
    "version": 3
   },
   "file_extension": ".py",
   "mimetype": "text/x-python",
   "name": "python",
   "nbconvert_exporter": "python",
   "pygments_lexer": "ipython3",
   "version": "3.8.5"
  }
 },
 "nbformat": 4,
 "nbformat_minor": 5
}
